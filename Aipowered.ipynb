{
  "nbformat": 4,
  "nbformat_minor": 0,
  "metadata": {
    "colab": {
      "provenance": [],
      "authorship_tag": "ABX9TyMEaXy5NemDkGFpvjmYKoVv",
      "include_colab_link": true
    },
    "kernelspec": {
      "name": "python3",
      "display_name": "Python 3"
    },
    "language_info": {
      "name": "python"
    }
  },
  "cells": [
    {
      "cell_type": "markdown",
      "metadata": {
        "id": "view-in-github",
        "colab_type": "text"
      },
      "source": [
        "<a href=\"https://colab.research.google.com/github/raunakyadav92/ai-powered-Notebook/blob/main/Aipowered.ipynb\" target=\"_parent\"><img src=\"https://colab.research.google.com/assets/colab-badge.svg\" alt=\"Open In Colab\"/></a>"
      ]
    },
    {
      "cell_type": "code",
      "execution_count": null,
      "metadata": {
        "id": "ZLYePlOdUTEm"
      },
      "outputs": [],
      "source": [
        "import datetime\n",
        "\n",
        "def ai_summarize(note):\n",
        "    # Placeholder for AI Summary (You’ll use OpenAI API here)\n",
        "    return f\"Summary of your note: {note[:50]}...\"\n",
        "\n",
        "def save_note(note, summary):\n",
        "    with open(\"ai_notebook.txt\", \"a\") as file:\n",
        "        file.write(f\"\\n{datetime.datetime.now()} | Note: {note}\\nAI Summary: {summary}\\n\")\n",
        "\n",
        "def main():\n",
        "    print(\"🤖 Welcome to AI-Powered Notebook\")\n",
        "    while True:\n",
        "        choice = input(\"\\n1. Write Note\\n2. View Saved Notes\\n3. Exit\\nChoose: \")\n",
        "        if choice == '1':\n",
        "            note = input(\"📝 Write your note: \")\n",
        "            summary = ai_summarize(note)\n",
        "            print(f\"🤖 {summary}\")\n",
        "            save_note(note, summary)\n",
        "            print(\"✅ Note saved with AI summary.\")\n",
        "        elif choice == '2':\n",
        "            try:\n",
        "                with open(\"ai_notebook.txt\", \"r\") as file:\n",
        "                    print(\"\\n--- Saved Notes ---\\n\")\n",
        "                    print(file.read())\n",
        "            except FileNotFoundError:\n",
        "                print(\"❌ No notes saved yet.\")\n",
        "        elif choice == '3':\n",
        "            print(\"🙏 Thank you for using AI Notebook!\")\n",
        "            break\n",
        "        else:\n",
        "            print(\"❌ Invalid option.\")\n",
        "\n",
        "main()\n"
      ]
    }
  ]
}